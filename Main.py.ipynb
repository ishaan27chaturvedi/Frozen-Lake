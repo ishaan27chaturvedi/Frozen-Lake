{
 "cells": [
  {
   "cell_type": "code",
   "execution_count": 8,
   "id": "edce46e8",
   "metadata": {},
   "outputs": [],
   "source": [
    "import numpy as np\n",
    "import random\n",
    "from itertools import product\n",
    "import contextlib\n",
    "from Environment import * \n",
    "from Tabular_Model_Based_Algos import *\n",
    "from Tabular_Model_Free_Algos import * \n",
    "from Non_Tabular_Model_Free_Algos import *"
   ]
  },
  {
   "cell_type": "code",
   "execution_count": 2,
   "id": "62482749",
   "metadata": {},
   "outputs": [],
   "source": [
    "# Configures numpy print options\n",
    "@contextlib.contextmanager\n",
    "def _printoptions(*args, **kwargs):\n",
    "    original = np.get_printoptions()\n",
    "    np.set_printoptions(*args, **kwargs)\n",
    "    try:\n",
    "        yield\n",
    "    finally:\n",
    "        np.set_printoptions(**original)"
   ]
  },
  {
   "cell_type": "markdown",
   "id": "f7b96e65",
   "metadata": {},
   "source": [
    "# Tabular Model Based Algorithms"
   ]
  },
  {
   "cell_type": "markdown",
   "id": "e63f5d5c",
   "metadata": {},
   "source": [
    "## Policy iteration"
   ]
  },
  {
   "cell_type": "code",
   "execution_count": 5,
   "id": "c4e03527",
   "metadata": {},
   "outputs": [
    {
     "name": "stdout",
     "output_type": "stream",
     "text": [
      "## Policy iteration\n",
      "Lake:\n",
      "[['&' '.' '.' '.']\n",
      " ['.' '#' '.' '#']\n",
      " ['.' '.' '.' '#']\n",
      " ['#' '.' '.' '$']]\n",
      "Policy:\n",
      "[['↓' '→' '↓' '←']\n",
      " ['↓' '↑' '↓' '↑']\n",
      " ['→' '↓' '↓' '↑']\n",
      " ['↑' '→' '→' '↑']]\n",
      "Value:\n",
      "[[0.455 0.504 0.579 0.505]\n",
      " [0.508 0.    0.653 0.   ]\n",
      " [0.584 0.672 0.768 0.   ]\n",
      " [0.    0.771 0.887 1.   ]]\n"
     ]
    }
   ],
   "source": [
    "policy, values = policy_iteration(env, gamma, theta, max_iterations)\n",
    "env.render(policy, values)"
   ]
  },
  {
   "cell_type": "markdown",
   "id": "c7a5e984",
   "metadata": {},
   "source": [
    "## Value iteration"
   ]
  },
  {
   "cell_type": "code",
   "execution_count": 9,
   "id": "5d32f555",
   "metadata": {
    "scrolled": true
   },
   "outputs": [
    {
     "name": "stdout",
     "output_type": "stream",
     "text": [
      "Lake:\n",
      "[['&' '.' '.' '.']\n",
      " ['.' '#' '.' '#']\n",
      " ['.' '.' '.' '#']\n",
      " ['#' '.' '.' '$']]\n",
      "Policy:\n",
      "[['↓' '→' '↓' '←']\n",
      " ['↓' '↑' '↓' '↑']\n",
      " ['→' '↓' '↓' '↑']\n",
      " ['↑' '→' '→' '↑']]\n",
      "Value:\n",
      "[[0.455 0.504 0.579 0.505]\n",
      " [0.508 0.    0.653 0.   ]\n",
      " [0.584 0.672 0.768 0.   ]\n",
      " [0.    0.771 0.887 1.   ]]\n"
     ]
    }
   ],
   "source": [
    "optimal_policy, values = value_iteration(env, gamma, theta, max_iterations)\n",
    "env.render(optimal_policy, values)"
   ]
  },
  {
   "cell_type": "markdown",
   "id": "fb5fbdcb",
   "metadata": {},
   "source": [
    "# Tabular Model Free Algorithms"
   ]
  },
  {
   "cell_type": "markdown",
   "id": "62c32583",
   "metadata": {},
   "source": [
    "## SARSA"
   ]
  },
  {
   "cell_type": "code",
   "execution_count": 10,
   "id": "8370bec4",
   "metadata": {},
   "outputs": [
    {
     "name": "stdout",
     "output_type": "stream",
     "text": [
      "Lake:\n",
      "[['&' '.' '.' '.']\n",
      " ['.' '#' '.' '#']\n",
      " ['.' '.' '.' '#']\n",
      " ['#' '.' '.' '$']]\n",
      "Policy:\n",
      "[['↓' '←' '↓' '←']\n",
      " ['↓' '↑' '↓' '↑']\n",
      " ['→' '↓' '↓' '↑']\n",
      " ['↑' '→' '→' '↑']]\n",
      "Value:\n",
      "[[0.449 0.371 0.374 0.256]\n",
      " [0.5   0.    0.601 0.   ]\n",
      " [0.578 0.67  0.776 0.   ]\n",
      " [0.    0.769 0.893 1.   ]]\n"
     ]
    }
   ],
   "source": [
    "policy, value = sarsa(env, max_episodes, eta, gamma, epsilon, seed=seed)\n",
    "env.render(policy, value)"
   ]
  },
  {
   "cell_type": "markdown",
   "id": "063e1ba4",
   "metadata": {},
   "source": [
    "## Q-Learning Run"
   ]
  },
  {
   "cell_type": "code",
   "execution_count": 11,
   "id": "e276c677",
   "metadata": {},
   "outputs": [
    {
     "name": "stdout",
     "output_type": "stream",
     "text": [
      "Lake:\n",
      "[['&' '.' '.' '.']\n",
      " ['.' '#' '.' '#']\n",
      " ['.' '.' '.' '#']\n",
      " ['#' '.' '.' '$']]\n",
      "Policy:\n",
      "[['↓' '→' '↓' '←']\n",
      " ['↓' '↑' '↓' '↑']\n",
      " ['→' '↓' '↓' '↑']\n",
      " ['↑' '→' '→' '↑']]\n",
      "Value:\n",
      "[[0.46  0.485 0.568 0.509]\n",
      " [0.515 0.    0.636 0.   ]\n",
      " [0.593 0.679 0.752 0.   ]\n",
      " [0.    0.765 0.89  1.   ]]\n"
     ]
    }
   ],
   "source": [
    "policy, value = q_learning(env, max_episodes, eta, gamma, epsilon, seed=seed)\n",
    "env.render(policy, value)"
   ]
  },
  {
   "cell_type": "markdown",
   "id": "b13b4bb4",
   "metadata": {},
   "source": [
    "# Non Tabular Model Free Algorithms"
   ]
  },
  {
   "cell_type": "markdown",
   "id": "c86b9bc0",
   "metadata": {},
   "source": [
    "## Linear SARSA"
   ]
  },
  {
   "cell_type": "code",
   "execution_count": 12,
   "id": "c2a14df1",
   "metadata": {},
   "outputs": [
    {
     "name": "stdout",
     "output_type": "stream",
     "text": [
      "Lake:\n",
      "[['&' '.' '.' '.']\n",
      " ['.' '#' '.' '#']\n",
      " ['.' '.' '.' '#']\n",
      " ['#' '.' '.' '$']]\n",
      "Policy:\n",
      "[['↓' '→' '↓' '←']\n",
      " ['↓' '↑' '↓' '↑']\n",
      " ['→' '→' '↓' '↑']\n",
      " ['↑' '→' '→' '↑']]\n",
      "Value:\n",
      "[[0.442 0.473 0.554 0.46 ]\n",
      " [0.498 0.    0.666 0.   ]\n",
      " [0.573 0.672 0.767 0.   ]\n",
      " [0.    0.789 0.887 1.   ]]\n"
     ]
    }
   ],
   "source": [
    "parameters = linear_sarsa(linear_env, max_episodes, eta, gamma, epsilon, seed=seed)\n",
    "policy, value = linear_env.decode_policy(parameters)\n",
    "linear_env.render(policy, value)"
   ]
  },
  {
   "cell_type": "markdown",
   "id": "2102f68f",
   "metadata": {},
   "source": [
    "## Linear Q-Learning"
   ]
  },
  {
   "cell_type": "code",
   "execution_count": 13,
   "id": "b2b61570",
   "metadata": {},
   "outputs": [
    {
     "name": "stdout",
     "output_type": "stream",
     "text": [
      "Lake:\n",
      "[['&' '.' '.' '.']\n",
      " ['.' '#' '.' '#']\n",
      " ['.' '.' '.' '#']\n",
      " ['#' '.' '.' '$']]\n",
      "Policy:\n",
      "[['↓' '←' '←' '←']\n",
      " ['↓' '↑' '↓' '↑']\n",
      " ['→' '↓' '↓' '↑']\n",
      " ['↑' '→' '→' '↑']]\n",
      "Value:\n",
      "[[0.451 0.404 0.353 0.282]\n",
      " [0.508 0.    0.657 0.   ]\n",
      " [0.585 0.672 0.758 0.   ]\n",
      " [0.    0.773 0.884 1.   ]]\n"
     ]
    }
   ],
   "source": [
    "parameters = linear_q_learning(linear_env, max_episodes, eta, gamma, epsilon, seed=seed)\n",
    "policy, value = linear_env.decode_policy(parameters)\n",
    "linear_env.render(policy, value)"
   ]
  },
  {
   "cell_type": "code",
   "execution_count": null,
   "id": "5cf17607",
   "metadata": {},
   "outputs": [],
   "source": []
  }
 ],
 "metadata": {
  "kernelspec": {
   "display_name": "Python 3",
   "language": "python",
   "name": "python3"
  },
  "language_info": {
   "codemirror_mode": {
    "name": "ipython",
    "version": 3
   },
   "file_extension": ".py",
   "mimetype": "text/x-python",
   "name": "python",
   "nbconvert_exporter": "python",
   "pygments_lexer": "ipython3",
   "version": "3.8.8"
  }
 },
 "nbformat": 4,
 "nbformat_minor": 5
}
