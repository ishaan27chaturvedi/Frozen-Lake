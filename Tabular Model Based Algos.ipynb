{
 "cells": [
  {
   "cell_type": "code",
   "execution_count": 13,
   "id": "a4e45dcc",
   "metadata": {},
   "outputs": [],
   "source": [
    "import numpy as np\n",
    "import random\n",
    "from itertools import product\n",
    "import contextlib\n",
    "from Environment import * "
   ]
  },
  {
   "cell_type": "markdown",
   "id": "90bbf259",
   "metadata": {},
   "source": [
    "### Defining Print Options"
   ]
  },
  {
   "cell_type": "code",
   "execution_count": 2,
   "id": "3d7c7bb0",
   "metadata": {},
   "outputs": [],
   "source": [
    "# Configures numpy print options\n",
    "@contextlib.contextmanager\n",
    "def _printoptions(*args, **kwargs):\n",
    "    original = np.get_printoptions()\n",
    "    np.set_printoptions(*args, **kwargs)\n",
    "    try:\n",
    "        yield\n",
    "    finally:\n",
    "        np.set_printoptions(**original)"
   ]
  },
  {
   "cell_type": "markdown",
   "id": "38270777",
   "metadata": {},
   "source": [
    "# Tabular Model Based Algorithms"
   ]
  },
  {
   "cell_type": "markdown",
   "id": "4d056c5f",
   "metadata": {},
   "source": [
    "## Bellman Equation "
   ]
  },
  {
   "cell_type": "code",
   "execution_count": 3,
   "id": "7bc217db",
   "metadata": {},
   "outputs": [],
   "source": [
    "def calcluate_value(env, gamma, values, s, a):\n",
    "    \"\"\"\n",
    "    V_pi(s) = sum ( Pass' * [ Rass' + gamma*V_pi(s') ] )\n",
    "    \"\"\"\n",
    "    value = sum(\n",
    "                [ env.p(next_s, s, a) * \n",
    "                ( env.r(next_s, s, a) + gamma * values[next_s] )\n",
    "                for next_s in range(env.n_states) ]\n",
    "                ) \n",
    "    \n",
    "    return value"
   ]
  },
  {
   "cell_type": "markdown",
   "id": "3776069f",
   "metadata": {},
   "source": [
    "# Policy Iteration"
   ]
  },
  {
   "cell_type": "code",
   "execution_count": 19,
   "id": "24ffcad0",
   "metadata": {},
   "outputs": [],
   "source": [
    "def policy_evaluation(env, policy, gamma, theta, max_iterations):\n",
    "    \"\"\"\n",
    "    Update value of each state, until max_iterations or delta < theta\n",
    "    \"\"\"\n",
    "    values = np.zeros(env.n_states, dtype=np.float)\n",
    "    for _ in range(max_iterations):\n",
    "        delta = 0\n",
    "        for s in range(env.n_states):\n",
    "            v = values[s]\n",
    "            values[s] = calcluate_value(env, gamma, values, s, policy[s])\n",
    "            delta = max(delta, abs(v - values[s]))\n",
    "        if delta < theta:   \n",
    "            break\n",
    "            \n",
    "    return values\n",
    "\n",
    "\n",
    "def policy_improvement(env, values, gamma):\n",
    "    \"\"\"\n",
    "    Updates policy: for each state, replace current action with the highest value rewarding action\n",
    "    \"\"\"\n",
    "    policy = np.zeros(env.n_states, dtype=int)\n",
    "    for s in range(env.n_states):\n",
    "        policy[s] = np.argmax( [ calcluate_value(env, gamma, values, s, a) for a in range(env.n_actions) ] )\n",
    "\n",
    "    return policy\n",
    "\n",
    "\n",
    "def policy_iteration(env, gamma, theta, max_iterations, policy=None):\n",
    "    \"\"\"\n",
    "    Create a random policy. Alternatively evaluate and improve the policy until no improvement can be made.\n",
    "    \"\"\"\n",
    "    if policy is None:\n",
    "        policy = np.zeros(env.n_states, dtype=int)\n",
    "    else:\n",
    "        policy = np.array(policy, dtype=int)\n",
    "        \n",
    "    policy_initial = None\n",
    "    \n",
    "    while(np.array_equal(policy_initial, policy)==False):\n",
    "        policy_initial = policy\n",
    "        value = policy_evaluation(env, policy, gamma, theta, max_iterations)\n",
    "        policy = policy_improvement(env, value, gamma)\n",
    "        \n",
    "    return policy, value"
   ]
  },
  {
   "cell_type": "markdown",
   "id": "a0b98596",
   "metadata": {},
   "source": [
    "### Run Policy iteration"
   ]
  },
  {
   "cell_type": "code",
   "execution_count": 21,
   "id": "f273c2c3",
   "metadata": {},
   "outputs": [
    {
     "name": "stdout",
     "output_type": "stream",
     "text": [
      "# Model-based algorithms\n",
      "\n",
      "## Policy iteration\n",
      "Lake:\n",
      "[['&' '.' '.' '.']\n",
      " ['.' '#' '.' '#']\n",
      " ['.' '.' '.' '#']\n",
      " ['#' '.' '.' '$']]\n",
      "Policy:\n",
      "[['↓' '→' '↓' '←']\n",
      " ['↓' '↑' '↓' '↑']\n",
      " ['→' '↓' '↓' '↑']\n",
      " ['↑' '→' '→' '↑']]\n",
      "Value:\n",
      "[[0.455 0.504 0.579 0.505]\n",
      " [0.508 0.    0.653 0.   ]\n",
      " [0.584 0.672 0.768 0.   ]\n",
      " [0.    0.771 0.887 1.   ]]\n"
     ]
    },
    {
     "name": "stderr",
     "output_type": "stream",
     "text": [
      "<ipython-input-19-fe6cedfd67b2>:5: DeprecationWarning: `np.float` is a deprecated alias for the builtin `float`. To silence this warning, use `float` by itself. Doing this will not modify any behavior and is safe. If you specifically wanted the numpy scalar type, use `np.float64` here.\n",
      "Deprecated in NumPy 1.20; for more details and guidance: https://numpy.org/devdocs/release/1.20.0-notes.html#deprecations\n",
      "  values = np.zeros(env.n_states, dtype=np.float)\n"
     ]
    }
   ],
   "source": [
    "print('# Model-based algorithms')\n",
    "gamma = 0.9\n",
    "theta = 0.001\n",
    "max_iterations = 100000\n",
    "\n",
    "print('')\n",
    "\n",
    "print('## Policy iteration')\n",
    "policy, values = policy_iteration(env, gamma, theta, max_iterations)\n",
    "env.render(policy, values)"
   ]
  },
  {
   "cell_type": "markdown",
   "id": "248a12a4",
   "metadata": {},
   "source": [
    "# Value Iteration"
   ]
  },
  {
   "cell_type": "code",
   "execution_count": 22,
   "id": "eef7428d",
   "metadata": {},
   "outputs": [],
   "source": [
    "def value_iteration(env, gamma, theta, max_iterations, values=None):\n",
    "    \"\"\"\n",
    "    Start with random values and iterate until optimal values have been found.\n",
    "    Calculate policy in one sweep based on optimal values.\n",
    "    \"\"\"\n",
    "    if values is None:\n",
    "        values = np.zeros(env.n_states)\n",
    "    else:\n",
    "        values = np.array(values, dtype=np.float)\n",
    "\n",
    "    for _ in range(max_iterations):\n",
    "        delta = 0\n",
    "        for s in range(env.n_states):\n",
    "            v = values[s]\n",
    "            values[s] = max( [ calcluate_value(env, gamma, values, s, a) for a in range(env.n_actions) ] )\n",
    "            delta = max(delta, abs(v - values[s]))\n",
    "        if delta < theta:\n",
    "            break\n",
    "\n",
    "    policy = np.zeros(env.n_states, dtype=int)\n",
    "    for s in range(env.n_states):\n",
    "        policy[s] = np.argmax( [ calcluate_value(env, gamma, values, s, a) for a in range(env.n_actions) ] )\n",
    "\n",
    "    return policy, values"
   ]
  },
  {
   "cell_type": "markdown",
   "id": "f1d18900",
   "metadata": {},
   "source": [
    "### Run Value Iteration"
   ]
  },
  {
   "cell_type": "code",
   "execution_count": 23,
   "id": "70fb8744",
   "metadata": {},
   "outputs": [
    {
     "name": "stdout",
     "output_type": "stream",
     "text": [
      "## Value iteration\n",
      "Lake:\n",
      "[['&' '.' '.' '.']\n",
      " ['.' '#' '.' '#']\n",
      " ['.' '.' '.' '#']\n",
      " ['#' '.' '.' '$']]\n",
      "Policy:\n",
      "[['↓' '→' '↓' '←']\n",
      " ['↓' '↑' '↓' '↑']\n",
      " ['→' '↓' '↓' '↑']\n",
      " ['↑' '→' '→' '↑']]\n",
      "Value:\n",
      "[[0.455 0.504 0.579 0.505]\n",
      " [0.508 0.    0.653 0.   ]\n",
      " [0.584 0.672 0.768 0.   ]\n",
      " [0.    0.771 0.887 1.   ]]\n"
     ]
    }
   ],
   "source": [
    "print('## Value iteration')\n",
    "optimal_policy, values = value_iteration(env, gamma, theta, max_iterations)\n",
    "env.render(optimal_policy, values)"
   ]
  },
  {
   "cell_type": "code",
   "execution_count": null,
   "id": "75d585d8",
   "metadata": {},
   "outputs": [],
   "source": []
  }
 ],
 "metadata": {
  "kernelspec": {
   "display_name": "Python 3",
   "language": "python",
   "name": "python3"
  },
  "language_info": {
   "codemirror_mode": {
    "name": "ipython",
    "version": 3
   },
   "file_extension": ".py",
   "mimetype": "text/x-python",
   "name": "python",
   "nbconvert_exporter": "python",
   "pygments_lexer": "ipython3",
   "version": "3.8.8"
  }
 },
 "nbformat": 4,
 "nbformat_minor": 5
}
